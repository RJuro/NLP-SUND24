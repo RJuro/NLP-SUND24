{
  "cells": [
    {
      "cell_type": "markdown",
      "metadata": {
        "id": "1dJNRhYYFbdL"
      },
      "source": [
        "# Tutorial: Extracting Information from Text Using OpenAI's API - format\n",
        "\n",
        "This tutorial demonstrates how to use OpenAI's API to extract information from a text input. We will go through the steps of setting up the OpenAI client, making requests to the API, and processing the responses. The example involves summarizing a Danish news article and extracting structured information from it.\n",
        "\n",
        "## Installation and Imports\n",
        "First, we need to install the required library and import necessary modules.\n"
      ]
    },
    {
      "cell_type": "code",
      "execution_count": null,
      "metadata": {
        "id": "rcpyGhv2ZlDK"
      },
      "outputs": [],
      "source": [
        "!pip install openai -q"
      ]
    },
    {
      "cell_type": "code",
      "execution_count": null,
      "metadata": {
        "id": "WlnZwJIjae5d"
      },
      "outputs": [],
      "source": [
        "# Import required libraries\n",
        "from openai import OpenAI\n",
        "from google.colab import userdata\n",
        "import json\n",
        "from pydantic import BaseModel, Field\n",
        "import textwrap"
      ]
    },
    {
      "cell_type": "markdown",
      "metadata": {
        "id": "IZPPl-oLFbdO"
      },
      "source": [
        "Setting Up the OpenAI Client\n",
        "\n",
        "We will set up the OpenAI client using a custom API key and base URL."
      ]
    },
    {
      "cell_type": "code",
      "execution_count": null,
      "metadata": {
        "id": "u20ck6dye0y0"
      },
      "outputs": [],
      "source": [
        "# Setup OpenAI client with custom API key and base URL\n",
        "TOGETHER_API_KEY = userdata.get('TOGETHER_API_KEY')"
      ]
    },
    {
      "cell_type": "markdown",
      "metadata": {
        "id": "ouGkUJf9FbdP"
      },
      "source": [
        "### Summarizing Text\n",
        "\n",
        "We will call the language model to summarize a given Danish text into a single sentence."
      ]
    },
    {
      "cell_type": "code",
      "execution_count": null,
      "metadata": {
        "id": "djcjO6qMgC4M"
      },
      "outputs": [],
      "source": [
        "# Create client\n",
        "client = OpenAI(\n",
        "    base_url=\"https://api.together.xyz/v1\",\n",
        "    api_key=TOGETHER_API_KEY\n",
        ")"
      ]
    },
    {
      "cell_type": "code",
      "execution_count": null,
      "metadata": {
        "id": "q7-BSyvJkgAN"
      },
      "outputs": [],
      "source": [
        "text = \"\"\"\n",
        "The patient presented with complaints of persistent itching and redness on their hands, which they had noticed over the past week. They reported that the symptoms began shortly after they started using a new hand soap. The patient described the itching as intense and the redness as progressively worsening, with some areas of slight swelling.\n",
        "\n",
        "During the consultation, the doctor conducted a thorough examination of the patient’s hands. The skin appeared erythematous, particularly on the dorsum of both hands. There were no signs of infection, such as pus or excessive warmth, but the localized erythema and slight edema were evident. The doctor noted that the distribution of the rash was consistent with contact dermatitis, likely caused by an irritant or allergen in the new soap.\n",
        "\n",
        "The patient was asked about any other new products they had been using, to rule out other potential causes. No other new products or changes in routine were reported.\n",
        "\n",
        "Given the history and clinical presentation, the doctor diagnosed the patient with contact dermatitis. The primary treatment recommendation was to discontinue the use of the suspected soap immediately. The doctor prescribed a topical corticosteroid cream to reduce inflammation and itching, advising the patient to apply it sparingly to the affected areas twice daily.\n",
        "\n",
        "The doctor also provided general skin care advice to prevent further irritation: avoid hot water when washing hands, use a mild, fragrance-free soap, and apply a moisturizer regularly to maintain the skin barrier.\n",
        "\n",
        "The patient was advised to monitor the symptoms and return for a follow-up appointment in two weeks to assess the effectiveness of the treatment. The doctor also mentioned that if the symptoms did not improve significantly or if they worsened, an allergy test might be considered to identify any specific allergens.\n",
        "\n",
        "From the doctor’s perspective, the interaction was straightforward. The diagnosis was clear based on the patient’s history and symptoms. The prescribed treatment was expected to alleviate the symptoms, and the patient was receptive to the advice given. The doctor felt confident that with the recommended changes and medication, the patient’s condition would improve, but remained open to further investigation if necessary.\n",
        "\n",
        "This detailed report captures both the patient’s experience and the doctor’s perspective, providing a comprehensive view of the consultation and the management plan.\n",
        "\"\"\""
      ]
    },
    {
      "cell_type": "code",
      "execution_count": null,
      "metadata": {
        "id": "e0HW0BFzkbRT"
      },
      "outputs": [],
      "source": [
        "# Call the LLM with the JSON schema\n",
        "chat_completion = client.chat.completions.create(\n",
        "    model=\"mistralai/Mixtral-8x7B-Instruct-v0.1\",\n",
        "    #model=\"meta-llama/Llama-3-70b-chat-hf\",\n",
        "\n",
        "    messages=[\n",
        "        {\n",
        "            \"role\": \"system\",\n",
        "            \"content\": \"You are a helpful clinical assistant. You only output what you have been asked for. No disclaimers, explanations, notes etc.\",\n",
        "        },\n",
        "        {\n",
        "            \"role\": \"user\",\n",
        "            \"content\": \"Create a 1 sentence summary of the following: \" + text ,\n",
        "        },\n",
        "    ],\n",
        ")\n",
        "\n",
        "output = chat_completion.choices[0].message.content"
      ]
    },
    {
      "cell_type": "code",
      "execution_count": null,
      "metadata": {
        "id": "pgYC4La8lQzM"
      },
      "outputs": [],
      "source": [
        "print(output)"
      ]
    },
    {
      "cell_type": "markdown",
      "metadata": {
        "id": "t5eIFq19FbdQ"
      },
      "source": [
        "## Creating a User Object and extracting structured info\n",
        "We will define a schema for a user and call the API to create a user object based on this schema."
      ]
    },
    {
      "cell_type": "code",
      "execution_count": null,
      "metadata": {
        "id": "cgOU8LbJgmSm"
      },
      "outputs": [],
      "source": [
        "# Define the schema for the output.\n",
        "class User(BaseModel):\n",
        "    name: str = Field(description=\"user name\")\n",
        "    address: str = Field(description=\"address\")"
      ]
    },
    {
      "cell_type": "code",
      "execution_count": null,
      "metadata": {
        "id": "5ArU4MYKe7Fa"
      },
      "outputs": [],
      "source": [
        "# Call the LLM with the JSON schema\n",
        "chat_completion = client.chat.completions.create(\n",
        "    model=\"mistralai/Mixtral-8x7B-Instruct-v0.1\",\n",
        "    response_format={\"type\": \"json_object\", \"schema\": User.model_json_schema()},\n",
        "    messages=[\n",
        "        {\n",
        "            \"role\": \"system\",\n",
        "            \"content\": \"You are a helpful assistant that answers in JSON.\",\n",
        "        },\n",
        "        {\n",
        "            \"role\": \"user\",\n",
        "            \"content\": \"Create a user named Alice, who lives in 42, Wonderland Avenue.\",\n",
        "        },\n",
        "    ],\n",
        ")\n",
        "\n",
        "created_user = json.loads(chat_completion.choices[0].message.content)\n",
        "print(json.dumps(created_user, indent=2))"
      ]
    },
    {
      "cell_type": "markdown",
      "metadata": {
        "id": "iTYaZAJNFbdQ"
      },
      "source": [
        "## Extracting Case Details\n",
        "We will define a schema for case details and extract relevant information from the given text."
      ]
    },
    {
      "cell_type": "code",
      "execution_count": null,
      "metadata": {
        "id": "DkrMtaLKf-TA"
      },
      "outputs": [],
      "source": [
        "class GPNoteDetails(BaseModel):\n",
        "    date: str = Field(description=\"Date of the consultation\")\n",
        "    diagnosis: str = Field(description=\"Diagnosis given during the consultation\")\n",
        "    consultation_type: str = Field(description=\"Type of consultation (e.g., in-person, telephone, mail)\")\n",
        "    prescriptions: list[str] = Field(description=\"Medications or treatments prescribed during the consultation\")\n",
        "    notes: str = Field(description=\"Additional detailed notes from the consultation\")"
      ]
    },
    {
      "cell_type": "code",
      "execution_count": null,
      "metadata": {
        "id": "0GVEwupqmdtT"
      },
      "outputs": [],
      "source": [
        "# Call the LLM with the JSON schema\n",
        "chat_completion = client.chat.completions.create(\n",
        "    model=\"mistralai/Mixtral-8x7B-Instruct-v0.1\",\n",
        "    response_format={\"type\": \"json_object\", \"schema\": GPNoteDetails.model_json_schema()},\n",
        "    messages=[\n",
        "        {\n",
        "            \"role\": \"system\",\n",
        "            \"content\": \"You are a helpful clinical assistant that answers in JSON.\",\n",
        "        },\n",
        "        {\n",
        "            \"role\": \"user\",\n",
        "            \"content\": \"Extract consulation information form following.: \" + text,\n",
        "        },\n",
        "    ],\n",
        ")\n",
        "\n",
        "created_user = json.loads(chat_completion.choices[0].message.content)\n",
        "print(json.dumps(created_user, indent=2))"
      ]
    },
    {
      "cell_type": "code",
      "execution_count": null,
      "metadata": {
        "id": "f_R_V2ExMu-l"
      },
      "outputs": [],
      "source": [
        "json_schema = \"\"\"{'properties': {'date': {'description': 'Date of the consultation',\n",
        "   'title': 'Date',\n",
        "   'type': 'string'},\n",
        "  'diagnosis': {'description': 'Diagnosis given during the consultation',\n",
        "   'title': 'Diagnosis',\n",
        "   'type': 'string'},\n",
        "  'consultation_type': {'description': 'Type of consultation (e.g., in-person, telephone, mail)',\n",
        "   'title': 'Consultation Type',\n",
        "   'type': 'string'},\n",
        "  'prescriptions': {'description': 'Medications or treatments prescribed during the consultation',\n",
        "   'items': {'type': 'string'},\n",
        "   'title': 'Prescriptions',\n",
        "   'type': 'array'},\n",
        "  'notes': {'description': 'Additional detailed notes from the consultation',\n",
        "   'title': 'Notes',\n",
        "   'type': 'string'}},\n",
        " 'required': ['date',\n",
        "  'diagnosis',\n",
        "  'consultation_type',\n",
        "  'prescriptions',\n",
        "  'notes'],\n",
        " 'title': 'GPNoteDetails',\n",
        " 'type': 'object'}\"\"\""
      ]
    },
    {
      "cell_type": "code",
      "execution_count": null,
      "metadata": {
        "id": "F1uOkLnJMRrm"
      },
      "outputs": [],
      "source": [
        "# Call the LLM with the JSON schema\n",
        "chat_completion = client.chat.completions.create(\n",
        "    model=\"meta-llama/Llama-3-70b-chat-hf\",\n",
        "    #response_format={\"type\": \"json_object\", \"schema\": CaseDetails.model_json_schema()},\n",
        "    messages=[\n",
        "        {\n",
        "            \"role\": \"system\",\n",
        "            \"content\": \"You are a helpful clinical assistant that answers in JSON. No notes, no disclaimers, just follow JSON.\",\n",
        "        },\n",
        "        {\n",
        "            \"role\": \"user\",\n",
        "            \"content\": \"Extract from following: \" + text + \"Use the following JSON: \" + json_schema,\n",
        "        },\n",
        "    ],\n",
        ")\n",
        "\n"
      ]
    },
    {
      "cell_type": "code",
      "execution_count": null,
      "metadata": {
        "id": "RoV9V-BgNNXd"
      },
      "outputs": [],
      "source": [
        "created_note = json.loads(chat_completion.choices[0].message.content)\n",
        "print(json.dumps(created_note, ensure_ascii=False, indent=2))\n"
      ]
    },
    {
      "cell_type": "markdown",
      "source": [
        "## Automation"
      ],
      "metadata": {
        "id": "l47bitKwY-Ic"
      }
    },
    {
      "cell_type": "code",
      "source": [
        "records_history = [\n",
        "    {\n",
        "        \"date\": \"2024-05-10\",\n",
        "        \"notes\": \"Patient reports pain in the right ear. Examination reveals redness and swelling in the ear canal. Prescribed antibiotic ear drops and advised to avoid water exposure.\"\n",
        "    },\n",
        "    {\n",
        "        \"date\": \"2024-06-01\",\n",
        "        \"notes\": \"Patient complains of sore throat and cough. No fever. Throat appears red, and nasal congestion is present. Advised rest, fluids, and over-the-counter decongestants. Follow-up if symptoms worsen.\"\n",
        "    },\n",
        "    {\n",
        "        \"date\": \"2024-06-24\",\n",
        "        \"notes\": \"Hemorrhoid. No bleeding. Prescribed cream. Follow-up to assess progress.\"\n",
        "    },\n",
        "    {\n",
        "        \"date\": \"2024-07-15\",\n",
        "        \"notes\": \"Hemorrhoid has become a bit smaller. Has been using cream for 3 weeks. No bleeding. At inspection, a rather large hemorrhoid is seen at 4 o'clock. On rectal examination, a small fatty lump is felt in the same position. Plan to let Nyholm take a look. Continue with cream.\"\n",
        "    },\n",
        "    {\n",
        "        \"date\": \"2024-07-30\",\n",
        "        \"notes\": \"Patient reports itching and redness on the hands after using a new soap. Examination shows localized erythema and slight swelling. Advised to discontinue use of the soap and prescribed topical corticosteroid.\"\n",
        "    },\n",
        "    {\n",
        "        \"date\": \"2024-08-10\",\n",
        "        \"notes\": \"Patient called reporting headache, facial pain, and nasal discharge. Symptoms suggest sinusitis. Recommended steam inhalation and prescribed antibiotics over the phone. Follow-up in one week if no improvement.\"\n",
        "    },\n",
        "    {\n",
        "        \"date\": \"2024-08-20\",\n",
        "        \"notes\": \"Patient emailed about persistent sneezing, runny nose, and itchy eyes, likely due to seasonal allergies. Recommended over-the-counter antihistamines and nasal spray. Advised to avoid known allergens and keep windows closed during high pollen days.\"\n",
        "    }\n",
        "]"
      ],
      "metadata": {
        "id": "FmJcwvTcY_C3"
      },
      "execution_count": null,
      "outputs": []
    },
    {
      "cell_type": "code",
      "source": [
        "json_schema = \"\"\"\n",
        "  'diagnosis': {'description': 'Diagnosis given during the consultation',\n",
        "   'title': 'Diagnosis',\n",
        "   'type': 'string'},\n",
        "  'consultation_type': {'description': 'Type of consultation (e.g., in-person, telephone, mail)',\n",
        "   'title': 'Consultation Type',\n",
        "   'type': 'string'},\n",
        "  'prescriptions': {'description': 'Medications or treatments prescribed during the consultation',\n",
        "   'items': {'type': 'string'},\n",
        "   'title': 'Prescriptions',\n",
        "   'type': 'array'},\n",
        "  'notes': {'description': 'Additional detailed notes from the consultation',\n",
        "   'title': 'Notes',\n",
        "   'type': 'string'}},\n",
        " 'required': ['diagnosis',\n",
        "  'consultation_type',\n",
        "  'prescriptions',\n",
        "  'notes'],\n",
        " 'title': 'GPNoteDetails',\n",
        " 'type': 'object'}\"\"\""
      ],
      "metadata": {
        "id": "U-R5Crv6b1Ma"
      },
      "execution_count": null,
      "outputs": []
    },
    {
      "cell_type": "code",
      "source": [
        "structured_records = []\n",
        "\n",
        "for note in records_history:\n",
        "  date = note[\"date\"]\n",
        "  notes = note[\"notes\"]\n",
        "\n",
        "\n",
        "  chat_completion = client.chat.completions.create(\n",
        "      model=\"meta-llama/Llama-3-70b-chat-hf\",\n",
        "      #response_format={\"type\": \"json_object\", \"schema\": CaseDetails.model_json_schema()},\n",
        "      messages=[\n",
        "          {\n",
        "              \"role\": \"system\",\n",
        "              \"content\": \"You are a helpful clinical assistant that answers in JSON. No notes, no disclaimers, just follow JSON.\",\n",
        "          },\n",
        "          {\n",
        "              \"role\": \"user\",\n",
        "              \"content\": \"Extract from following: \" + notes + \"Use the following JSON: \" + json_schema,\n",
        "          },\n",
        "      ],\n",
        "  )\n",
        "  structrured_output = json.loads(chat_completion.choices[0].message.content)\n",
        "  structrured_output['date'] = date\n",
        "  structured_records.append(structrured_output)\n",
        "\n"
      ],
      "metadata": {
        "id": "NXr0TnaXa7Xv"
      },
      "execution_count": null,
      "outputs": []
    },
    {
      "cell_type": "code",
      "source": [
        "structured_records"
      ],
      "metadata": {
        "id": "Lv7_s4TLcid3"
      },
      "execution_count": null,
      "outputs": []
    },
    {
      "cell_type": "code",
      "source": [
        "# Call the LLM with the JSON schema\n",
        "chat_completion = client.chat.completions.create(\n",
        "    model=\"mistralai/Mixtral-8x7B-Instruct-v0.1\",\n",
        "    #model=\"meta-llama/Llama-3-70b-chat-hf\",\n",
        "\n",
        "    messages=[\n",
        "        {\n",
        "            \"role\": \"system\",\n",
        "            \"content\": \"You are a helpful clinical assistant. You only output what you have been asked for. No disclaimers, explanations, notes etc.\",\n",
        "        },\n",
        "        {\n",
        "            \"role\": \"user\",\n",
        "            \"content\": \"Create a 2 sentence summary with the most import information for the doctor to be informed about the patients status: \" + str(structured_records) ,\n",
        "        },\n",
        "    ],\n",
        ")\n",
        "\n",
        "output = chat_completion.choices[0].message.content"
      ],
      "metadata": {
        "id": "A4PbFFh_crT6"
      },
      "execution_count": null,
      "outputs": []
    },
    {
      "cell_type": "code",
      "source": [
        "wrapped_text = textwrap.fill(output, width=50)\n",
        "print(wrapped_text)"
      ],
      "metadata": {
        "id": "Tl2Q7hpSds3O"
      },
      "execution_count": null,
      "outputs": []
    },
    {
      "cell_type": "code",
      "source": [],
      "metadata": {
        "id": "uSX7y3Ard93S"
      },
      "execution_count": null,
      "outputs": []
    }
  ],
  "metadata": {
    "colab": {
      "provenance": []
    },
    "kernelspec": {
      "display_name": "Python 3",
      "name": "python3"
    },
    "language_info": {
      "name": "python"
    }
  },
  "nbformat": 4,
  "nbformat_minor": 0
}